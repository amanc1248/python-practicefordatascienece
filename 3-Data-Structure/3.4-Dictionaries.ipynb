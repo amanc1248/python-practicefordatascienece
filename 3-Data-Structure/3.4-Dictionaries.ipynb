{
 "cells": [
  {
   "cell_type": "code",
   "execution_count": 1,
   "metadata": {},
   "outputs": [
    {
     "name": "stdout",
     "output_type": "stream",
     "text": [
      "<class 'dict'>\n"
     ]
    }
   ],
   "source": [
    "## Creating dictonaries\n",
    "empty_dist = {}\n",
    "print(type(empty_dist))"
   ]
  },
  {
   "cell_type": "code",
   "execution_count": 2,
   "metadata": {},
   "outputs": [
    {
     "name": "stdout",
     "output_type": "stream",
     "text": [
      "{}\n"
     ]
    }
   ],
   "source": [
    "empty_dist = dict()\n",
    "print(empty_dist)"
   ]
  },
  {
   "cell_type": "code",
   "execution_count": 4,
   "metadata": {},
   "outputs": [
    {
     "name": "stdout",
     "output_type": "stream",
     "text": [
      "{'name': 'Krish', 'age': 23, 'grade': 24}\n",
      "<class 'dict'>\n"
     ]
    }
   ],
   "source": [
    "student = {\"name\":\"Krish\", \"age\": 23, \"grade\": 24}\n",
    "print(student)\n",
    "print(type(student))"
   ]
  },
  {
   "cell_type": "code",
   "execution_count": 6,
   "metadata": {},
   "outputs": [
    {
     "name": "stdout",
     "output_type": "stream",
     "text": [
      "{'name': 24, 'age': 23}\n"
     ]
    }
   ],
   "source": [
    "## Error\n",
    "## Single key is always used\n",
    "student = {\"name\":\"Krish\", \"age\": 23, \"name\": 24}\n",
    "print(student)"
   ]
  },
  {
   "cell_type": "code",
   "execution_count": 10,
   "metadata": {},
   "outputs": [
    {
     "name": "stdout",
     "output_type": "stream",
     "text": [
      "A\n",
      "A\n",
      "None\n",
      "Not Available\n"
     ]
    }
   ],
   "source": [
    "## Accessing dictionaries elements\n",
    "student = {\"name\":\"Krish\", \"age\": 23, \"grade\": \"A\"}\n",
    "print(student[\"grade\"])\n",
    "\n",
    "## Accessing using get() method\n",
    "print(student.get(\"grade\"))\n",
    "print(student.get(\"granamede\"))\n",
    "print(student.get(\"last_name\",\"Not Available\"))\n"
   ]
  },
  {
   "cell_type": "code",
   "execution_count": 11,
   "metadata": {},
   "outputs": [
    {
     "name": "stdout",
     "output_type": "stream",
     "text": [
      "{'name': 'Krish', 'age': 23, 'grade': 'A'}\n"
     ]
    }
   ],
   "source": [
    "## Modifying Dictionary Elements\n",
    "## Dictionary are mutable, so you can add, update or delete elements\n",
    "print(student)\n"
   ]
  },
  {
   "cell_type": "code",
   "execution_count": 14,
   "metadata": {},
   "outputs": [
    {
     "name": "stdout",
     "output_type": "stream",
     "text": [
      "{'name': 'Krish', 'age': 33, 'grade': 'A', 'address': 'india'}\n",
      "{'name': 'Krish', 'age': 33, 'grade': 'A', 'address': 'india'}\n"
     ]
    }
   ],
   "source": [
    "student[\"age\"] = 33 ##update value for the key\n",
    "print(student)\n",
    "student[\"address\"] = \"india\" ## added new key and value\n",
    "print(student)"
   ]
  },
  {
   "cell_type": "code",
   "execution_count": 18,
   "metadata": {},
   "outputs": [
    {
     "name": "stdout",
     "output_type": "stream",
     "text": [
      "{'name': 'Krish', 'age': 23}\n"
     ]
    }
   ],
   "source": [
    "student = {\"name\":\"Krish\", \"age\": 23, \"grade\": \"A\"}\n",
    "del student['grade']\n",
    "print(student)"
   ]
  },
  {
   "cell_type": "code",
   "execution_count": 23,
   "metadata": {},
   "outputs": [
    {
     "name": "stdout",
     "output_type": "stream",
     "text": [
      "dict_keys(['name', 'age', 'grade'])\n",
      "dict_values(['Krish', 23, 'A'])\n",
      "dict_items([('name', 'Krish'), ('age', 23), ('grade', 'A')])\n"
     ]
    }
   ],
   "source": [
    "## Common dictionary methods\n",
    "student = {\"name\":\"Krish\", \"age\": 23, \"grade\": \"A\"}\n",
    "keys = student.keys()\n",
    "print(keys)\n",
    "values = student.values()\n",
    "print(values)\n",
    "items =student.items()\n",
    "print(items)"
   ]
  },
  {
   "cell_type": "code",
   "execution_count": 24,
   "metadata": {},
   "outputs": [
    {
     "name": "stdout",
     "output_type": "stream",
     "text": [
      "{'name': 'Krish', 'age': 23, 'grade': 'A'}\n"
     ]
    }
   ],
   "source": [
    "## shallow copy\n",
    "student_copy = student\n",
    "print(student_copy)"
   ]
  },
  {
   "cell_type": "code",
   "execution_count": 25,
   "metadata": {},
   "outputs": [
    {
     "name": "stdout",
     "output_type": "stream",
     "text": [
      "{'name': 'Aman', 'age': 23, 'grade': 'A'}\n"
     ]
    }
   ],
   "source": [
    "student[\"name\"] = \"Aman\"\n",
    "print(student_copy)"
   ]
  },
  {
   "cell_type": "code",
   "execution_count": 26,
   "metadata": {},
   "outputs": [
    {
     "name": "stdout",
     "output_type": "stream",
     "text": [
      "{'name': 'Krish', 'age': 23, 'grade': 'A'}\n"
     ]
    }
   ],
   "source": [
    "student = {\"name\":\"Krish\", \"age\": 23, \"grade\": \"A\"}\n",
    "student_copy1 = student.copy() ## shallow copy\n",
    "student[\"grade\"] = \"as\"\n",
    "print(student_copy1)"
   ]
  },
  {
   "cell_type": "code",
   "execution_count": 29,
   "metadata": {},
   "outputs": [
    {
     "name": "stdout",
     "output_type": "stream",
     "text": [
      "name\n",
      "age\n",
      "grade\n",
      "Krish\n",
      "23\n",
      "A\n",
      "name: Krish\n",
      "age: 23\n",
      "grade: as\n"
     ]
    }
   ],
   "source": [
    "## Iterating over dictionaries\n",
    "## you can use loops to iterate over dictionaries, keys, values, or items\n",
    "\n",
    "## Iterating over keys\n",
    "for keys in student_copy1.keys():\n",
    "    print(keys)\n",
    "\n",
    "## Iterating over values\n",
    "for keys in student_copy1.values():\n",
    "    print(keys)\n",
    "\n",
    "## Iterating over keys/values pairs\n",
    "for key, value in student.items():\n",
    "    print(f\"{key}: {value}\")"
   ]
  },
  {
   "cell_type": "code",
   "execution_count": 31,
   "metadata": {},
   "outputs": [
    {
     "name": "stdout",
     "output_type": "stream",
     "text": [
      "{'student1': {'name': 'Krish', 'age': 23, 'grade': 'A'}, 'student2': {'name': 'Aman', 'age': 43, 'grade': 'D'}}\n",
      "D\n"
     ]
    }
   ],
   "source": [
    "## Nested Dictionaries\n",
    "students = {\n",
    "    \"student1\" : {\"name\":\"Krish\", \"age\": 23, \"grade\": \"A\"},\n",
    "    \"student2\" : {\"name\":\"Aman\", \"age\": 43, \"grade\": \"D\"},\n",
    "}\n",
    "print(students)\n",
    "\n",
    "## access nested dictionaries\n",
    "print(students[\"student2\"][\"grade\"])"
   ]
  },
  {
   "cell_type": "code",
   "execution_count": 36,
   "metadata": {},
   "outputs": [
    {
     "name": "stdout",
     "output_type": "stream",
     "text": [
      "student1\n",
      "name: Krish\n",
      "age: 23\n",
      "grade: A\n",
      "student2\n",
      "name: Aman\n",
      "age: 43\n",
      "grade: D\n"
     ]
    }
   ],
   "source": [
    "## Iterating over nested dictionaries\n",
    "for student_id, student_info in students.items():\n",
    "    print(f\"{student_id}\")\n",
    "    for key, value in student_info.items():\n",
    "        print(f\"{key}: {value}\")"
   ]
  },
  {
   "cell_type": "code",
   "execution_count": 37,
   "metadata": {},
   "outputs": [
    {
     "name": "stdout",
     "output_type": "stream",
     "text": [
      "{0: 0, 1: 1, 2: 4, 3: 9, 4: 16}\n"
     ]
    }
   ],
   "source": [
    "## Dictionary Comprehension\n",
    "squares = {x:x**2 for x in range(5)}\n",
    "print(squares)"
   ]
  },
  {
   "cell_type": "code",
   "execution_count": 39,
   "metadata": {},
   "outputs": [
    {
     "name": "stdout",
     "output_type": "stream",
     "text": [
      "{0: 0, 2: 4, 4: 16, 6: 36, 8: 64}\n"
     ]
    }
   ],
   "source": [
    "## Conditional Dictionary Comprehension\n",
    "evens = {x:x**2 for x in range (10) if x%2==0}\n",
    "print(evens)"
   ]
  },
  {
   "cell_type": "code",
   "execution_count": 41,
   "metadata": {},
   "outputs": [
    {
     "name": "stdout",
     "output_type": "stream",
     "text": [
      "{1: 1, 2: 2, 3: 3, 4: 4}\n"
     ]
    }
   ],
   "source": [
    "## Practical Examples\n",
    "## use a dictionary to count the frequency of elements in list\n",
    "numbers = [1,2,2,3,3,3,4,4,4,4]\n",
    "frequency = {}\n",
    "for number in numbers:\n",
    "    if number in frequency:\n",
    "        frequency[number]+=1\n",
    "    else:\n",
    "        frequency[number] = 1\n",
    "print(frequency)"
   ]
  },
  {
   "cell_type": "code",
   "execution_count": 42,
   "metadata": {},
   "outputs": [
    {
     "name": "stdout",
     "output_type": "stream",
     "text": [
      "{'a': 1, 'b': 2, 'c': 1, 'd': 2}\n"
     ]
    }
   ],
   "source": [
    "## merge\n",
    "dict1 = {\"a\":1, \"b\":2}\n",
    "dict2 = {\"c\":1, \"d\":2}\n",
    "merge_dict ={**dict1, **dict2}\n",
    "print(merge_dict)"
   ]
  },
  {
   "cell_type": "code",
   "execution_count": null,
   "metadata": {},
   "outputs": [],
   "source": []
  }
 ],
 "metadata": {
  "kernelspec": {
   "display_name": "Python 3",
   "language": "python",
   "name": "python3"
  },
  "language_info": {
   "codemirror_mode": {
    "name": "ipython",
    "version": 3
   },
   "file_extension": ".py",
   "mimetype": "text/x-python",
   "name": "python",
   "nbconvert_exporter": "python",
   "pygments_lexer": "ipython3",
   "version": "3.12.0"
  }
 },
 "nbformat": 4,
 "nbformat_minor": 2
}
